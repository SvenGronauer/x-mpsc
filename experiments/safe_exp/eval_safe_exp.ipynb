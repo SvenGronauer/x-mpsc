{
 "cells": [
  {
   "cell_type": "code",
   "execution_count": 1,
   "metadata": {},
   "outputs": [],
   "source": [
    "import gymnasium as gym\n",
    "from x_mpsc import envs\n",
    "import matplotlib.pyplot as plt\n",
    "\n",
    "\n",
    "from safe_control_gym.controllers.safe_explorer.safe_ppo import SafeExplorerPPO\n",
    "\n",
    "from pets_torch.utils.wrappers import VideoWrapper\n",
    "from train_safe_exp import *"
   ]
  },
  {
   "cell_type": "code",
   "execution_count": 2,
   "metadata": {},
   "outputs": [
    {
     "data": {
      "text/plain": [
       "{'name': 'safe_explorer_ppo', 'config': {'hidden_dim': 64, 'norm_obs': False, 'norm_reward': False, 'clip_obs': 10.0, 'clip_reward': 10.0, 'pretraining': False, 'pretrained': '/home2/tom.haider/Code/x_mpsc/data/outputs/TwoLinkArm-v0/safe_explorer_ppo/pretrain/2023-01-12_15-46-03/checkpoints/model_latest.pt', 'constraint_hidden_dim': 10, 'constraint_lr': 0.0001, 'constraint_batch_size': 256, 'constraint_steps_per_epoch': 6000, 'constraint_epochs': 25, 'constraint_eval_steps': 1500, 'constraint_eval_interval': 5, 'constraint_buffer_size': 1000000, 'constraint_slack': 0.05, 'gamma': 0.99, 'use_gae': False, 'gae_lambda': 0.95, 'use_clipped_value': False, 'clip_param': 0.2, 'target_kl': 0.01, 'entropy_coef': 0.01, 'opt_epochs': 10, 'mini_batch_size': 64, 'actor_lr': 0.0003, 'critic_lr': 0.001, 'max_grad_norm': 0.5, 'max_env_steps': 1000000, 'num_workers': 1, 'rollout_batch_size': 4, 'rollout_steps': 100, 'deque_size': 10, 'eval_batch_size': 10, 'log_interval': 1000, 'save_interval': 1000, 'num_checkpoints': 10, 'eval_interval': 1000, 'eval_save_best': True, 'tensorboard': True}}"
      ]
     },
     "execution_count": 2,
     "metadata": {},
     "output_type": "execute_result"
    }
   ],
   "source": [
    "from hydra import compose, initialize\n",
    "from omegaconf import OmegaConf\n",
    "\n",
    "#EXP_DIR = \"../data/outputs/SimplePendulum-v0/safe_explorer_ppo/train/2023-01-12_16-12-43/\"\n",
    "EXP_DIR = \"../data/outputs/TwoLinkArm-v0/safe_explorer_ppo/train/2023-01-12_16-56-19\"\n",
    "\n",
    "cfg = OmegaConf.load(os.path.join(EXP_DIR, \".hydra\", \"config.yaml\"))\n",
    "\n",
    "cfg.algo"
   ]
  },
  {
   "cell_type": "code",
   "execution_count": 3,
   "metadata": {},
   "outputs": [],
   "source": [
    "def make_env(task, task_config, seed=42, record_videos=False):\n",
    "    env = gym.make(task)\n",
    "    env.seed(seed)\n",
    "\n",
    "    constraints = []\n",
    "    for c in task_config.constraints:\n",
    "        obj = globals().get(c[\"cls_name\"])(**c[\"kwargs\"])\n",
    "        constraints.append(obj)\n",
    "\n",
    "    env = SCGWrapper(env, constraints=constraints)\n",
    "    if record_videos:\n",
    "        env = VideoWrapper(env, episode_trigger=lambda x:True, video_folder=f\"./tmp/{cfg.task.name}/\")\n",
    "    return env\n"
   ]
  },
  {
   "cell_type": "code",
   "execution_count": 4,
   "metadata": {},
   "outputs": [
    {
     "name": "stdout",
     "output_type": "stream",
     "text": [
      "pygame 2.1.2 (SDL 2.0.16, Python 3.8.13)\n",
      "Hello from the pygame community. https://www.pygame.org/contribute.html\n",
      "WARNING! Video folder exists. Might overwrite exisiting videos.\n"
     ]
    },
    {
     "name": "stderr",
     "output_type": "stream",
     "text": [
      "/venvs/xmpsc/lib/python3.8/site-packages/gym/spaces/box.py:73: UserWarning: \u001b[33mWARN: Box bound precision lowered by casting to float32\u001b[0m\n",
      "  logger.warn(\n"
     ]
    }
   ],
   "source": [
    "\n",
    "\n",
    "env_func = partial(make_env, task=cfg.task.name, task_config=cfg.task.config, record_videos=True)\n",
    "agent = SafeExplorerPPO(\n",
    "    env_func=env_func,\n",
    "    training=False,\n",
    "    device=cfg.device,\n",
    "    **cfg.algo.config\n",
    ")\n",
    "\n",
    "agent.load(os.path.join(EXP_DIR, \"checkpoints\", \"model_latest.pt\"))\n",
    "agent.reset()"
   ]
  },
  {
   "cell_type": "code",
   "execution_count": 5,
   "metadata": {},
   "outputs": [
    {
     "name": "stderr",
     "output_type": "stream",
     "text": [
      "Failed to create secure directory (/run/user/384214913/pulse): No such file or directory\n",
      "ALSA lib confmisc.c:767:(parse_card) cannot find card '0'\n",
      "ALSA lib conf.c:4745:(_snd_config_evaluate) function snd_func_card_driver returned error: No such file or directory\n",
      "ALSA lib confmisc.c:392:(snd_func_concat) error evaluating strings\n",
      "ALSA lib conf.c:4745:(_snd_config_evaluate) function snd_func_concat returned error: No such file or directory\n",
      "ALSA lib confmisc.c:1246:(snd_func_refer) error evaluating name\n",
      "ALSA lib conf.c:4745:(_snd_config_evaluate) function snd_func_refer returned error: No such file or directory\n",
      "ALSA lib conf.c:5233:(snd_config_expand) Evaluate error: No such file or directory\n",
      "ALSA lib pcm.c:2660:(snd_pcm_open_noupdate) Unknown PCM default\n",
      "/venvs/xmpsc/lib/python3.8/site-packages/torch/nn/functional.py:1956: UserWarning: nn.functional.tanh is deprecated. Use torch.tanh instead.\n",
      "  warnings.warn(\"nn.functional.tanh is deprecated. Use torch.tanh instead.\")\n"
     ]
    }
   ],
   "source": [
    "eval_results = agent.run(n_episodes=10, render=False)"
   ]
  },
  {
   "cell_type": "code",
   "execution_count": 19,
   "metadata": {},
   "outputs": [
    {
     "data": {
      "text/plain": [
       "array([ 0.02776747,  0.537329  , -0.12959732,  0.789296  ,  0.48824033,\n",
       "        0.8727092 ,  0.6082973 ,  0.7937093 ,  2.709683  , -6.016095  ],\n",
       "      dtype=float32)"
      ]
     },
     "execution_count": 19,
     "metadata": {},
     "output_type": "execute_result"
    }
   ],
   "source": [
    "ex_obs = np.array(eval_results[\"ep_observations\"][-2])[8]\n"
   ]
  },
  {
   "cell_type": "code",
   "execution_count": 10,
   "metadata": {},
   "outputs": [
    {
     "data": {
      "text/plain": [
       "array([0, 0, 0, 0, 0, 0, 0, 0, 0, 0])"
      ]
     },
     "execution_count": 10,
     "metadata": {},
     "output_type": "execute_result"
    }
   ],
   "source": [
    "eval_results[\"constraint_violation\"]"
   ]
  },
  {
   "cell_type": "code",
   "execution_count": 23,
   "metadata": {},
   "outputs": [
    {
     "name": "stderr",
     "output_type": "stream",
     "text": [
      "/venvs/xmpsc/lib/python3.8/site-packages/gym/spaces/box.py:73: UserWarning: \u001b[33mWARN: Box bound precision lowered by casting to float32\u001b[0m\n",
      "  logger.warn(\n"
     ]
    },
    {
     "data": {
      "text/plain": [
       "<SCGWrapper<TimeLimit<TwoLinkArmEnv<TwoLinkArm-v0>>>>"
      ]
     },
     "execution_count": 23,
     "metadata": {},
     "output_type": "execute_result"
    }
   ],
   "source": [
    "env = env_func(record_videos=False)\n",
    "env"
   ]
  },
  {
   "cell_type": "code",
   "execution_count": 29,
   "metadata": {},
   "outputs": [
    {
     "data": {
      "text/plain": [
       "True"
      ]
     },
     "execution_count": 29,
     "metadata": {},
     "output_type": "execute_result"
    }
   ],
   "source": [
    "c_values = np.array([c.get_value(ex_obs) for c in env.constraints])\n",
    "c_violation = any(c_values > 0)\n",
    "c_violation"
   ]
  },
  {
   "cell_type": "code",
   "execution_count": null,
   "metadata": {},
   "outputs": [],
   "source": [
    "c"
   ]
  }
 ],
 "metadata": {
  "kernelspec": {
   "display_name": "xmpsc",
   "language": "python",
   "name": "python3"
  },
  "language_info": {
   "codemirror_mode": {
    "name": "ipython",
    "version": 3
   },
   "file_extension": ".py",
   "mimetype": "text/x-python",
   "name": "python",
   "nbconvert_exporter": "python",
   "pygments_lexer": "ipython3",
   "version": "3.8.13 (default, Aug 23 2022, 09:35:56) \n[GCC 10.2.1 20210110]"
  },
  "orig_nbformat": 4,
  "vscode": {
   "interpreter": {
    "hash": "cf6b53ece06fcd3840caf97d972f4edd4e62d6efad6759476278fc55c8d4f7ce"
   }
  }
 },
 "nbformat": 4,
 "nbformat_minor": 2
}
